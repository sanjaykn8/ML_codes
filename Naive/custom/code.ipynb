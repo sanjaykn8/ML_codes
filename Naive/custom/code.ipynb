{
 "cells": [
  {
   "cell_type": "code",
   "execution_count": 1,
   "id": "44864929",
   "metadata": {},
   "outputs": [],
   "source": [
    "import string\n",
    "import math\n",
    "from collections import defaultdict, Counter"
   ]
  },
  {
   "cell_type": "code",
   "execution_count": 2,
   "id": "8428e023",
   "metadata": {},
   "outputs": [],
   "source": [
    "data = []\n",
    "with open(\"messages.data\", \"r\") as f:\n",
    "    for line in f:\n",
    "        text, label = line.strip().rsplit(\",\", 1)\n",
    "        data.append((text, label))"
   ]
  },
  {
   "cell_type": "code",
   "execution_count": 3,
   "id": "b5df65f9",
   "metadata": {},
   "outputs": [],
   "source": [
    "def preprocess(text):\n",
    "    text = text.lower()\n",
    "    text = text.translate(str.maketrans('', '', string.punctuation))\n",
    "    return text.split()"
   ]
  },
  {
   "cell_type": "code",
   "execution_count": 4,
   "id": "5555f7a7",
   "metadata": {},
   "outputs": [
    {
     "name": "stdout",
     "output_type": "stream",
     "text": [
      "29\n"
     ]
    }
   ],
   "source": [
    "vocab = set()\n",
    "class_counts = Counter()\n",
    "word_counts = defaultdict(Counter)\n",
    "\n",
    "for msg, label in data:\n",
    "    words = preprocess(msg)\n",
    "    vocab.update(words)\n",
    "    class_counts[label] += 1\n",
    "    for w in words:\n",
    "        word_counts[label][w] += 1\n",
    "\n",
    "total_docs = len(data)\n",
    "classes = list(class_counts.keys())\n",
    "print(len(vocab))"
   ]
  },
  {
   "cell_type": "code",
   "execution_count": 5,
   "id": "a33c5d5a",
   "metadata": {},
   "outputs": [
    {
     "name": "stdout",
     "output_type": "stream",
     "text": [
      "{' spam': 0.5, ' ham': 0.5}\n"
     ]
    }
   ],
   "source": [
    "priors = {c: class_counts[c] / total_docs for c in classes}\n",
    "print(priors)"
   ]
  },
  {
   "cell_type": "code",
   "execution_count": 6,
   "id": "05f343f4",
   "metadata": {},
   "outputs": [
    {
     "name": "stdout",
     "output_type": "stream",
     "text": [
      " spam  :  {'lunch': 0.023809523809523808, 'medicines': 0.047619047619047616, 'win': 0.047619047619047616, 'offer': 0.047619047619047616, 'to': 0.023809523809523808, 'lets': 0.023809523809523808, 'now': 0.047619047619047616, 'prize': 0.047619047619047616, 'the': 0.023809523809523808, 'catch': 0.023809523809523808, 'easily': 0.047619047619047616, 'me': 0.023809523809523808, 'for': 0.047619047619047616, 'over': 0.023809523809523808, 'up': 0.023809523809523808, 'call': 0.023809523809523808, 'submit': 0.023809523809523808, 'report': 0.023809523809523808, 'when': 0.023809523809523808, 'just': 0.047619047619047616, 'forget': 0.023809523809523808, 'cheap': 0.047619047619047616, 'buy': 0.047619047619047616, 'dont': 0.023809523809523808, 'get': 0.023809523809523808, 'you': 0.047619047619047616, 'time': 0.023809523809523808, 'limited': 0.047619047619047616, 'cash': 0.047619047619047616}\n",
      " ham  :  {'lunch': 0.043478260869565216, 'medicines': 0.021739130434782608, 'win': 0.021739130434782608, 'offer': 0.021739130434782608, 'to': 0.043478260869565216, 'lets': 0.043478260869565216, 'now': 0.021739130434782608, 'prize': 0.021739130434782608, 'the': 0.043478260869565216, 'catch': 0.043478260869565216, 'easily': 0.021739130434782608, 'me': 0.043478260869565216, 'for': 0.021739130434782608, 'over': 0.043478260869565216, 'up': 0.043478260869565216, 'call': 0.043478260869565216, 'submit': 0.043478260869565216, 'report': 0.043478260869565216, 'when': 0.043478260869565216, 'just': 0.021739130434782608, 'forget': 0.043478260869565216, 'cheap': 0.021739130434782608, 'buy': 0.021739130434782608, 'dont': 0.043478260869565216, 'get': 0.043478260869565216, 'you': 0.043478260869565216, 'time': 0.043478260869565216, 'limited': 0.021739130434782608, 'cash': 0.021739130434782608}\n"
     ]
    }
   ],
   "source": [
    "alpha = 1  # smoothing\n",
    "V = len(vocab)\n",
    "likelihood = {}\n",
    "for c in classes:\n",
    "    total_words = sum(word_counts[c].values())\n",
    "    likelihood[c] = {\n",
    "        w: (word_counts[c][w] + alpha) / (total_words + alpha * V)\n",
    "        for w in vocab\n",
    "    }\n",
    "    print(c, \" : \", likelihood[c])"
   ]
  },
  {
   "cell_type": "code",
   "execution_count": 7,
   "id": "e84f4c1f",
   "metadata": {},
   "outputs": [],
   "source": [
    "def predict_nb(text):\n",
    "    words = preprocess(text)\n",
    "    scores = {}\n",
    "    for c in classes:\n",
    "        score = math.log(priors[c])\n",
    "        for w in words:\n",
    "            pw = likelihood[c].get(w, alpha / (sum(word_counts[c].values()) + alpha * V))\n",
    "            score += math.log(pw)\n",
    "        scores[c] = score\n",
    "    return max(scores, key=scores.get)"
   ]
  },
  {
   "cell_type": "code",
   "execution_count": 8,
   "id": "a452a17a",
   "metadata": {},
   "outputs": [
    {
     "name": "stdout",
     "output_type": "stream",
     "text": [
      "Message: “My name is kn” → Predicted:  spam\n",
      "\n"
     ]
    }
   ],
   "source": [
    "test_msg = \"My name is kn\"\n",
    "print(f\"Message: “{test_msg}” → Predicted: {predict_nb(test_msg)}\\n\")"
   ]
  }
 ],
 "metadata": {
  "kernelspec": {
   "display_name": "Python 3",
   "language": "python",
   "name": "python3"
  },
  "language_info": {
   "codemirror_mode": {
    "name": "ipython",
    "version": 3
   },
   "file_extension": ".py",
   "mimetype": "text/x-python",
   "name": "python",
   "nbconvert_exporter": "python",
   "pygments_lexer": "ipython3",
   "version": "3.12.9"
  }
 },
 "nbformat": 4,
 "nbformat_minor": 5
}
