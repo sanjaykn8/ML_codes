{
 "cells": [
  {
   "cell_type": "code",
   "execution_count": 9,
   "id": "44864929",
   "metadata": {},
   "outputs": [],
   "source": [
    "import string\n",
    "import math\n",
    "from collections import defaultdict, Counter\n"
   ]
  },
  {
   "cell_type": "code",
   "execution_count": 10,
   "id": "8428e023",
   "metadata": {},
   "outputs": [],
   "source": [
    "data = []\n",
    "with open(\"messages.data\", \"r\") as f:\n",
    "    for line in f:\n",
    "        text, label = line.strip().rsplit(\",\", 1)\n",
    "        data.append((text, label))"
   ]
  },
  {
   "cell_type": "code",
   "execution_count": 11,
   "id": "b5df65f9",
   "metadata": {},
   "outputs": [],
   "source": [
    "def preprocess(text):\n",
    "    text = text.lower()\n",
    "    text = text.translate(str.maketrans('', '', string.punctuation))\n",
    "    return text.split()"
   ]
  },
  {
   "cell_type": "code",
   "execution_count": 12,
   "id": "5555f7a7",
   "metadata": {},
   "outputs": [],
   "source": [
    "vocab = set()\n",
    "class_counts = Counter()\n",
    "word_counts = defaultdict(Counter)\n",
    "\n",
    "for msg, label in data:\n",
    "    words = preprocess(msg)\n",
    "    vocab.update(words)\n",
    "    class_counts[label] += 1\n",
    "    for w in words:\n",
    "        word_counts[label][w] += 1\n",
    "\n",
    "total_docs = len(data)\n",
    "classes = list(class_counts.keys())"
   ]
  },
  {
   "cell_type": "code",
   "execution_count": 13,
   "id": "a33c5d5a",
   "metadata": {},
   "outputs": [],
   "source": [
    "priors = {c: class_counts[c] / total_docs for c in classes}"
   ]
  },
  {
   "cell_type": "code",
   "execution_count": 14,
   "id": "05f343f4",
   "metadata": {},
   "outputs": [],
   "source": [
    "alpha = 1  # smoothing\n",
    "V = len(vocab)\n",
    "likelihood = {}\n",
    "for c in classes:\n",
    "    total_words = sum(word_counts[c].values())\n",
    "    likelihood[c] = {\n",
    "        w: (word_counts[c][w] + alpha) / (total_words + alpha * V)\n",
    "        for w in vocab\n",
    "    }"
   ]
  },
  {
   "cell_type": "code",
   "execution_count": 15,
   "id": "e84f4c1f",
   "metadata": {},
   "outputs": [],
   "source": [
    "def predict_nb(text):\n",
    "    words = preprocess(text)\n",
    "    scores = {}\n",
    "    for c in classes:\n",
    "        # start with log‑prior\n",
    "        score = math.log(priors[c])\n",
    "        for w in words:\n",
    "            # if word unseen in class‑counts, use smoothed prob\n",
    "            pw = likelihood[c].get(w, alpha / (sum(word_counts[c].values()) + alpha * V))\n",
    "            score += math.log(pw)\n",
    "        scores[c] = score\n",
    "    return max(scores, key=scores.get)"
   ]
  },
  {
   "cell_type": "code",
   "execution_count": 16,
   "id": "a452a17a",
   "metadata": {},
   "outputs": [
    {
     "name": "stdout",
     "output_type": "stream",
     "text": [
      "Message: “Get your cash prize now” → Predicted: spam\n",
      "\n"
     ]
    }
   ],
   "source": [
    "test_msg = \"Get your cash prize now\"\n",
    "print(f\"Message: “{test_msg}” → Predicted: {predict_nb(test_msg)}\\n\")"
   ]
  }
 ],
 "metadata": {
  "kernelspec": {
   "display_name": "Python 3",
   "language": "python",
   "name": "python3"
  },
  "language_info": {
   "codemirror_mode": {
    "name": "ipython",
    "version": 3
   },
   "file_extension": ".py",
   "mimetype": "text/x-python",
   "name": "python",
   "nbconvert_exporter": "python",
   "pygments_lexer": "ipython3",
   "version": "3.12.9"
  }
 },
 "nbformat": 4,
 "nbformat_minor": 5
}
