{
 "cells": [
  {
   "cell_type": "code",
   "execution_count": 18,
   "id": "f210a9e3",
   "metadata": {},
   "outputs": [],
   "source": [
    "import numpy as np\n",
    "from sklearn.datasets import load_iris\n",
    "from sklearn.model_selection import train_test_split\n",
    "from sklearn.metrics import accuracy_score\n",
    "import math"
   ]
  },
  {
   "cell_type": "code",
   "execution_count": 19,
   "id": "c24d0e8e",
   "metadata": {},
   "outputs": [],
   "source": [
    "iris = load_iris()\n",
    "X, y = iris.data, iris.target\n",
    "X_train, X_test, y_train, y_test = train_test_split(\n",
    "    X, y, test_size=0.2, random_state=42, stratify=y)"
   ]
  },
  {
   "cell_type": "code",
   "execution_count": 20,
   "id": "3d55aa45",
   "metadata": {},
   "outputs": [],
   "source": [
    "classes = np.unique(y_train)\n",
    "means, variances, priors = {}, {}, {}\n",
    "\n",
    "for c in classes:\n",
    "    Xc = X_train[y_train == c]\n",
    "    means[c] = Xc.mean(axis=0)\n",
    "    variances[c] = Xc.var(axis=0)\n",
    "    priors[c] = Xc.shape[0] / X_train.shape[0]"
   ]
  },
  {
   "cell_type": "code",
   "execution_count": 21,
   "id": "e07a3ec2",
   "metadata": {},
   "outputs": [],
   "source": [
    "def gaussian_pdf(x, mean, var):\n",
    "    eps = 1e-9\n",
    "    coeff = 1.0 / np.sqrt(2.0 * np.pi * (var + eps))\n",
    "    exponent = np.exp(- (x - mean) ** 2 / (2 * (var + eps)))\n",
    "    return coeff * exponent"
   ]
  },
  {
   "cell_type": "code",
   "execution_count": 22,
   "id": "6fe7d4a5",
   "metadata": {},
   "outputs": [],
   "source": [
    "def predict_gnb(X):\n",
    "    y_pred = []\n",
    "    for x in X:\n",
    "        posteriors = {}\n",
    "        for c in classes:\n",
    "            prior = math.log(priors[c])\n",
    "            class_conditional = np.sum(np.log(gaussian_pdf(x, means[c], variances[c])))\n",
    "            posteriors[c] = prior + class_conditional\n",
    "        y_pred.append(max(posteriors, key=posteriors.get))\n",
    "    return np.array(y_pred)"
   ]
  },
  {
   "cell_type": "code",
   "execution_count": 23,
   "id": "39ac15c4",
   "metadata": {},
   "outputs": [
    {
     "name": "stdout",
     "output_type": "stream",
     "text": [
      "Accuracy:0.9667\n"
     ]
    }
   ],
   "source": [
    "y_pred = predict_gnb(X_test)\n",
    "acc = accuracy_score(y_test, y_pred)\n",
    "print(f\"Accuracy:{acc:.4f}\")"
   ]
  }
 ],
 "metadata": {
  "kernelspec": {
   "display_name": "Python 3",
   "language": "python",
   "name": "python3"
  },
  "language_info": {
   "codemirror_mode": {
    "name": "ipython",
    "version": 3
   },
   "file_extension": ".py",
   "mimetype": "text/x-python",
   "name": "python",
   "nbconvert_exporter": "python",
   "pygments_lexer": "ipython3",
   "version": "3.12.9"
  }
 },
 "nbformat": 4,
 "nbformat_minor": 5
}
