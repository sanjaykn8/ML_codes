{
 "cells": [
  {
   "cell_type": "code",
   "execution_count": null,
   "id": "65002157",
   "metadata": {},
   "outputs": [],
   "source": [
    "import pandas as pd\n",
    "import numpy as np\n",
    "from sklearn.preprocessing import StandardScaler, MinMaxScaler, RobustScaler, PowerTransformer\n",
    "\n",
    "ip_file = '.csv'\n",
    "op_file = '.csv'\n",
    "df = pd.read_csv(ip_file)"
   ]
  },
  {
   "cell_type": "code",
   "execution_count": null,
   "id": "05b19965",
   "metadata": {},
   "outputs": [],
   "source": [
    "print(\"Initial Shape:\", df.shape)\n",
    "print(\"\\nMissing Values:\\n\", df.isnull().sum())"
   ]
  },
  {
   "cell_type": "code",
   "execution_count": null,
   "id": "723d3910",
   "metadata": {},
   "outputs": [],
   "source": [
    "for col in df.select_dtypes(include=np.number).columns:\n",
    "    df[col].fillna(df[col].mean(), inplace=True)"
   ]
  },
  {
   "cell_type": "code",
   "execution_count": null,
   "id": "eeeb6d48",
   "metadata": {},
   "outputs": [],
   "source": [
    "def remove_outliers_iqr(data, columns):\n",
    "    for col in columns:\n",
    "        Q1 = data[col].quantile(0.25)\n",
    "        Q3 = data[col].quantile(0.75)\n",
    "        IQR = Q3 - Q1\n",
    "        lower = Q1 - 1.5 * IQR\n",
    "        upper = Q3 + 1.5 * IQR\n",
    "        before = data.shape[0]\n",
    "        data = data[(data[col] >= lower) & (data[col] <= upper)]\n",
    "        after = data.shape[0]\n",
    "        print(f\"{col}: Removed {before - after} outliers\")\n",
    "    return data\n",
    "\n",
    "num_cols = df.select_dtypes(include=np.number).columns\n",
    "df = remove_outliers_iqr(df, num_cols)"
   ]
  },
  {
   "cell_type": "code",
   "execution_count": null,
   "id": "992d14bc",
   "metadata": {},
   "outputs": [],
   "source": [
    "transformation = \"\" \n",
    "\n",
    "if transformation == \"standard\":\n",
    "    scaler = StandardScaler()\n",
    "    df[num_cols] = scaler.fit_transform(df[num_cols])\n",
    "    print(\"Applied StandardScaler (Z-score)\")\n",
    "\n",
    "elif transformation == \"minmax\":\n",
    "    scaler = MinMaxScaler()\n",
    "    df[num_cols] = scaler.fit_transform(df[num_cols])\n",
    "    print(\"Applied MinMaxScaler (0–1 normalization)\")\n",
    "\n",
    "elif transformation == \"robust\":\n",
    "    scaler = RobustScaler()\n",
    "    df[num_cols] = scaler.fit_transform(df[num_cols])\n",
    "    print(\"Applied RobustScaler (good for outliers)\")\n",
    "\n",
    "elif transformation == \"log\":\n",
    "    for col in num_cols:\n",
    "        if (df[col] <= 0).any():\n",
    "            df[col] = df[col] + abs(df[col].min()) + 1\n",
    "        df[col] = np.log(df[col])\n",
    "    print(\"Applied Log Transformation\")\n",
    "\n",
    "elif transformation == \"power\":\n",
    "    transformer = PowerTransformer(method='yeo-johnson')\n",
    "    df[num_cols] = transformer.fit_transform(df[num_cols])\n",
    "    print(\"Applied PowerTransformer (Yeo-Johnson)\")"
   ]
  },
  {
   "cell_type": "code",
   "execution_count": null,
   "id": "a4f3c312",
   "metadata": {},
   "outputs": [],
   "source": [
    "df.to_csv(op_file, index=False)"
   ]
  }
 ],
 "metadata": {
  "kernelspec": {
   "display_name": "Python 3",
   "language": "python",
   "name": "python3"
  },
  "language_info": {
   "codemirror_mode": {
    "name": "ipython",
    "version": 3
   },
   "file_extension": ".py",
   "mimetype": "text/x-python",
   "name": "python",
   "nbconvert_exporter": "python",
   "pygments_lexer": "ipython3",
   "version": "3.12.9"
  }
 },
 "nbformat": 4,
 "nbformat_minor": 5
}
