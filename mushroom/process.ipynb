{
 "cells": [
  {
   "cell_type": "code",
   "execution_count": 5,
   "id": "afcf1f18",
   "metadata": {},
   "outputs": [],
   "source": [
    "import pandas as pd \n",
    "\n",
    "column_names = [\n",
    "    'class', 'cap-shape', 'cap-surface', 'cap-color', 'bruises', 'odor',\n",
    "    'gill-attachment', 'gill-spacing', 'gill-size', 'gill-color',\n",
    "    'stalk-shape', 'stalk-root', 'stalk-surface-above-ring',\n",
    "    'stalk-surface-below-ring', 'stalk-color-above-ring',\n",
    "    'stalk-color-below-ring', 'veil-type', 'veil-color', 'ring-number',\n",
    "    'ring-type', 'spore-print-color', 'population', 'habitat'\n",
    "]\n",
    "\n",
    "df = pd.read_csv('agaricus-lepiota.data', header=None, names=column_names)\n",
    "\n",
    "mappings = {\n",
    "    'class': {'e': 'edible', 'p': 'poisonous'},\n",
    "    'cap-shape': {'b': 'bell', 'c': 'conical', 'x': 'convex', 'f': 'flat', 'k': 'knobbed', 's': 'sunken'},\n",
    "    'cap-surface': {'f': 'fibrous', 'g': 'grooves', 'y': 'scaly', 's': 'smooth'},\n",
    "    'cap-color': {'n': 'brown', 'b': 'buff', 'c': 'cinnamon', 'g': 'gray', 'r': 'green', 'p': 'pink', 'u': 'purple', 'e': 'red', 'w': 'white', 'y': 'yellow'},\n",
    "    'bruises': {'t': 'bruises', 'f': 'no'},\n",
    "    'odor': {'a': 'almond', 'l': 'anise', 'c': 'creosote', 'y': 'fishy', 'f': 'foul', 'm': 'musty', 'n': 'none', 'p': 'pungent', 's': 'spicy'},\n",
    "    'gill-attachment': {'a': 'attached', 'd': 'descending', 'f': 'free', 'n': 'notched'},\n",
    "    'gill-spacing': {'c': 'close', 'w': 'crowded', 'd': 'distant'},\n",
    "    'gill-size': {'b': 'broad', 'n': 'narrow'},\n",
    "    'gill-color': {'k': 'black', 'n': 'brown', 'b': 'buff', 'h': 'chocolate', 'g': 'gray', 'r': 'green', 'o': 'orange', 'p': 'pink', 'u': 'purple', 'e': 'red', 'w': 'white', 'y': 'yellow'},\n",
    "    'stalk-shape': {'e': 'enlarging', 't': 'tapering'},\n",
    "    'stalk-root': {'b': 'bulbous', 'c': 'club', 'u': 'cup', 'e': 'equal', 'z': 'rhizomorphs', 'r': 'rooted', '?': 'missing'},\n",
    "    'stalk-surface-above-ring': {'f': 'fibrous', 'y': 'scaly', 'k': 'silky', 's': 'smooth'},\n",
    "    'stalk-surface-below-ring': {'f': 'fibrous', 'y': 'scaly', 'k': 'silky', 's': 'smooth'},\n",
    "    'stalk-color-above-ring': {'n': 'brown', 'b': 'buff', 'c': 'cinnamon', 'g': 'gray', 'o': 'orange', 'p': 'pink', 'e': 'red', 'w': 'white', 'y': 'yellow'},\n",
    "    'stalk-color-below-ring': {'n': 'brown', 'b': 'buff', 'c': 'cinnamon', 'g': 'gray', 'o': 'orange', 'p': 'pink', 'e': 'red', 'w': 'white', 'y': 'yellow'},\n",
    "    'veil-type': {'p': 'partial', 'u': 'universal'},\n",
    "    'veil-color': {'n': 'brown', 'o': 'orange', 'w': 'white', 'y': 'yellow'},\n",
    "    'ring-number': {'n': 'none', 'o': 'one', 't': 'two'},\n",
    "    'ring-type': {'c': 'cobwebby', 'e': 'evanescent', 'f': 'flaring', 'l': 'large', 'n': 'none', 'p': 'pendant', 's': 'sheathing', 'z': 'zone'},\n",
    "    'spore-print-color': {'k': 'black', 'n': 'brown', 'b': 'buff', 'h': 'chocolate', 'r': 'green', 'o': 'orange', 'u': 'purple', 'w': 'white', 'y': 'yellow'},\n",
    "    'population': {'a': 'abundant', 'c': 'clustered', 'n': 'numerous', 's': 'scattered', 'v': 'several', 'y': 'solitary'},\n",
    "    'habitat': {'g': 'grasses', 'l': 'leaves', 'm': 'meadows', 'p': 'paths', 'u': 'urban', 'w': 'waste', 'd': 'woods'}\n",
    "}\n",
    "\n",
    "# Step 4: Apply mapping to DataFrame\n",
    "for col, mapping in mappings.items():\n",
    "    df[col] = df[col].map(mapping)\n",
    "\n",
    "# Step 5: Show the human-readable version\n",
    "df.head()\n",
    "df.to_csv('mushrooms.csv', index=False)"
   ]
  }
 ],
 "metadata": {
  "kernelspec": {
   "display_name": "Python 3",
   "language": "python",
   "name": "python3"
  },
  "language_info": {
   "codemirror_mode": {
    "name": "ipython",
    "version": 3
   },
   "file_extension": ".py",
   "mimetype": "text/x-python",
   "name": "python",
   "nbconvert_exporter": "python",
   "pygments_lexer": "ipython3",
   "version": "3.12.9"
  }
 },
 "nbformat": 4,
 "nbformat_minor": 5
}
