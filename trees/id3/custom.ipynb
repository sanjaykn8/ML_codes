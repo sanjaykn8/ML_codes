{
 "cells": [
  {
   "cell_type": "code",
   "execution_count": 25,
   "id": "04cc77b4",
   "metadata": {},
   "outputs": [],
   "source": [
    "import math\n",
    "import pandas as pd\n",
    "\n",
    "column_names = ['outlook', 'windy', 'play']\n",
    "data = pd.read_csv('val.csv', header=None, names=column_names)"
   ]
  },
  {
   "cell_type": "code",
   "execution_count": 26,
   "id": "a9af73e9",
   "metadata": {},
   "outputs": [],
   "source": [
    "def entropy(labels):\n",
    "    total = len(labels)\n",
    "    counts = labels.value_counts()\n",
    "    return -sum((count / total) * math.log2(count / total) for count in counts)"
   ]
  },
  {
   "cell_type": "code",
   "execution_count": 27,
   "id": "03b1346e",
   "metadata": {},
   "outputs": [
    {
     "name": "stdout",
     "output_type": "stream",
     "text": [
      "Entropy(Play) = 1.0000\n"
     ]
    }
   ],
   "source": [
    "labels = data['play']\n",
    "H_play = entropy(labels)\n",
    "print(f\"Entropy(Play) = {H_play:.4f}\")"
   ]
  },
  {
   "cell_type": "code",
   "execution_count": 28,
   "id": "f2a2291f",
   "metadata": {},
   "outputs": [],
   "source": [
    "def info_gain(df, attr):\n",
    "    total = len(df)\n",
    "    grouped = df.groupby(attr)['play']\n",
    "    H_after = sum((len(group) / total) * entropy(group) for _, group in grouped)\n",
    "    return H_play - H_after, H_after"
   ]
  },
  {
   "cell_type": "code",
   "execution_count": 29,
   "id": "b1922b07",
   "metadata": {},
   "outputs": [
    {
     "name": "stdout",
     "output_type": "stream",
     "text": [
      "Attribute outlook: Entropy after split = 0.3333, Information Gain = 0.6667\n",
      "Attribute windy: Entropy after split = 0.9183, Information Gain = 0.0817\n"
     ]
    }
   ],
   "source": [
    "for feature in ['outlook', 'windy']:\n",
    "    ig, H_after = info_gain(data, feature)\n",
    "    print(f\"Attribute {feature}: Entropy after split = {H_after:.4f}, Information Gain = {ig:.4f}\")"
   ]
  },
  {
   "cell_type": "code",
   "execution_count": 30,
   "id": "5a67f585",
   "metadata": {},
   "outputs": [
    {
     "name": "stdout",
     "output_type": "stream",
     "text": [
      "Best attribute for root: outlook\n",
      "\n"
     ]
    }
   ],
   "source": [
    "ig_vals = {f: info_gain(data,f)[0] for f in ['outlook','windy']}\n",
    "best = max(ig_vals, key=ig_vals.get)\n",
    "print(f\"Best attribute for root: {best}\\n\")"
   ]
  },
  {
   "cell_type": "code",
   "execution_count": 31,
   "id": "1cb990f1",
   "metadata": {},
   "outputs": [],
   "source": [
    "def gini_index(labels):\n",
    "    total = len(labels)\n",
    "    counts = labels.value_counts()\n",
    "    gini = 1.0 - sum((count/total)**2 for count in counts)\n",
    "    return gini"
   ]
  },
  {
   "cell_type": "code",
   "execution_count": 32,
   "id": "571fed31",
   "metadata": {},
   "outputs": [
    {
     "name": "stdout",
     "output_type": "stream",
     "text": [
      "Gini(full) = 0.5000\n"
     ]
    }
   ],
   "source": [
    "g_full = gini_index(data['play'])\n",
    "print(f\"Gini(full) = {g_full:.4f}\")"
   ]
  },
  {
   "cell_type": "code",
   "execution_count": 33,
   "id": "9aa03909",
   "metadata": {},
   "outputs": [
    {
     "name": "stdout",
     "output_type": "stream",
     "text": [
      "Gini after splitting on outlook = 0.1667\n",
      "Gini Gain = 0.3333\n",
      "\n",
      "Gini after splitting on windy = 0.4444\n",
      "Gini Gain = 0.0556\n",
      "\n"
     ]
    }
   ],
   "source": [
    "for feat in ['outlook', 'windy']:\n",
    "    subsets = data.groupby(feat)['play']\n",
    "    weighted = sum((len(group)/len(data)) * gini_index(group) for _, group in subsets)\n",
    "    print(f\"Gini after splitting on {feat} = {weighted:.4f}\")\n",
    "    print(f\"Gini Gain = {g_full - weighted:.4f}\\n\")"
   ]
  }
 ],
 "metadata": {
  "kernelspec": {
   "display_name": "Python 3",
   "language": "python",
   "name": "python3"
  },
  "language_info": {
   "codemirror_mode": {
    "name": "ipython",
    "version": 3
   },
   "file_extension": ".py",
   "mimetype": "text/x-python",
   "name": "python",
   "nbconvert_exporter": "python",
   "pygments_lexer": "ipython3",
   "version": "3.12.9"
  }
 },
 "nbformat": 4,
 "nbformat_minor": 5
}
