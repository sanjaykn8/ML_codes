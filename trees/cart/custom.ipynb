{
 "cells": [
  {
   "cell_type": "code",
   "execution_count": 2,
   "id": "e41a2d89",
   "metadata": {},
   "outputs": [],
   "source": [
    "import pandas as pd\n",
    "\n",
    "column_names_cart = ['weather', 'play']\n",
    "weather_data = pd.read_csv('weather_data.csv', header=None, names=column_names_cart)"
   ]
  },
  {
   "cell_type": "code",
   "execution_count": 3,
   "id": "aa4a3aaa",
   "metadata": {},
   "outputs": [],
   "source": [
    "def gini_index(labels):\n",
    "    total = len(labels)\n",
    "    counts = labels.value_counts()\n",
    "    gini = 1.0 - sum((count/total)**2 for count in counts)\n",
    "    return gini"
   ]
  },
  {
   "cell_type": "code",
   "execution_count": 4,
   "id": "d0bea90c",
   "metadata": {},
   "outputs": [
    {
     "name": "stdout",
     "output_type": "stream",
     "text": [
      "Gini(full) = 0.4444\n"
     ]
    }
   ],
   "source": [
    "g_full = gini_index(weather_data['play'])\n",
    "print(f\"Gini(full) = {g_full:.4f}\")"
   ]
  },
  {
   "cell_type": "code",
   "execution_count": 5,
   "id": "d66bfcc8",
   "metadata": {},
   "outputs": [
    {
     "name": "stdout",
     "output_type": "stream",
     "text": [
      "Weighted Gini after splitting on weather = 0.2222\n",
      "Gini Gain = 0.2222\n",
      "\n"
     ]
    }
   ],
   "source": [
    "subsets = weather_data.groupby('weather')['play']\n",
    "weighted = sum((len(group)/len(weather_data)) * gini_index(group) for _, group in subsets)\n",
    "print(f\"Weighted Gini after splitting on weather = {weighted:.4f}\")\n",
    "print(f\"Gini Gain = {g_full - weighted:.4f}\\n\")"
   ]
  }
 ],
 "metadata": {
  "kernelspec": {
   "display_name": "Python 3",
   "language": "python",
   "name": "python3"
  },
  "language_info": {
   "codemirror_mode": {
    "name": "ipython",
    "version": 3
   },
   "file_extension": ".py",
   "mimetype": "text/x-python",
   "name": "python",
   "nbconvert_exporter": "python",
   "pygments_lexer": "ipython3",
   "version": "3.12.9"
  }
 },
 "nbformat": 4,
 "nbformat_minor": 5
}
