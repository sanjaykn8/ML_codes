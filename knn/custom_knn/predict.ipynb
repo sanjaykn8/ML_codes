{
 "cells": [
  {
   "cell_type": "code",
   "execution_count": 1,
   "id": "34cc56d6",
   "metadata": {},
   "outputs": [],
   "source": [
    "import numpy as np\n",
    "\n",
    "data = [\n",
    "    [2.5, 2.4, 0],\n",
    "    [0.5, 0.7, 0],\n",
    "    [2.2, 2.9, 0],\n",
    "    [1.9, 2.2, 0],\n",
    "    [3.1, 3.0, 0],\n",
    "    [7.2, 6.8, 1],\n",
    "    [6.9, 7.1, 1],\n",
    "    [6.2, 5.9, 1],\n",
    "    [6.8, 6.1, 1],\n",
    "    [7.5, 6.7, 1],\n",
    "]"
   ]
  },
  {
   "cell_type": "code",
   "execution_count": 2,
   "id": "e01f2a98",
   "metadata": {},
   "outputs": [],
   "source": [
    "data = np.array(data)\n",
    "X_data = data[:, :2]\n",
    "y_data = data[:, 2].astype(int)"
   ]
  },
  {
   "cell_type": "code",
   "execution_count": 3,
   "id": "2aa159f7",
   "metadata": {},
   "outputs": [],
   "source": [
    "test_point = np.array([3.0, 3.5])"
   ]
  },
  {
   "cell_type": "code",
   "execution_count": 4,
   "id": "d1ab0424",
   "metadata": {},
   "outputs": [],
   "source": [
    "distances = np.linalg.norm(X_data - test_point, axis=1)"
   ]
  },
  {
   "cell_type": "code",
   "execution_count": 5,
   "id": "e764f81b",
   "metadata": {},
   "outputs": [],
   "source": [
    "distance_info = list(zip(range(1, 11), X_data, y_data, distances))\n",
    "distance_info.sort(key=lambda x: x[3]) "
   ]
  },
  {
   "cell_type": "code",
   "execution_count": 6,
   "id": "e2c1c19c",
   "metadata": {},
   "outputs": [],
   "source": [
    "K = 3\n",
    "neighbors = distance_info[:K]"
   ]
  },
  {
   "cell_type": "code",
   "execution_count": 7,
   "id": "43bbb192",
   "metadata": {},
   "outputs": [],
   "source": [
    "classes = [neighbor[2] for neighbor in neighbors]\n",
    "predicted_class = max(set(classes), key=classes.count)"
   ]
  },
  {
   "cell_type": "code",
   "execution_count": 8,
   "id": "f292f2ea",
   "metadata": {},
   "outputs": [
    {
     "name": "stdout",
     "output_type": "stream",
     "text": [
      "Test Sample: [3.  3.5]\n",
      "\n",
      "Distances to all points:\n",
      "ID: 5, Point: [3.1, 3.0], Class: 0, Distance: 0.510\n",
      "ID: 3, Point: [2.2, 2.9], Class: 0, Distance: 1.000\n",
      "ID: 1, Point: [2.5, 2.4], Class: 0, Distance: 1.208\n",
      "ID: 4, Point: [1.9, 2.2], Class: 0, Distance: 1.703\n",
      "ID: 2, Point: [0.5, 0.7], Class: 0, Distance: 3.754\n",
      "ID: 8, Point: [6.2, 5.9], Class: 1, Distance: 4.000\n",
      "ID: 9, Point: [6.8, 6.1], Class: 1, Distance: 4.604\n",
      "ID: 7, Point: [6.9, 7.1], Class: 1, Distance: 5.308\n",
      "ID: 6, Point: [7.2, 6.8], Class: 1, Distance: 5.341\n",
      "ID: 10, Point: [7.5, 6.7], Class: 1, Distance: 5.522\n",
      "\n",
      "K Nearest Neighbors:\n",
      "ID: 5, Point: [3.1, 3.0], Class: 0, Distance: 0.510\n",
      "ID: 3, Point: [2.2, 2.9], Class: 0, Distance: 1.000\n",
      "ID: 1, Point: [2.5, 2.4], Class: 0, Distance: 1.208\n",
      "\n",
      "Predicted Class (K=3): 0\n"
     ]
    }
   ],
   "source": [
    "print(\"Test Sample:\", test_point)\n",
    "print(\"\\nDistances to all points:\")\n",
    "for idx, features, label, dist in distance_info:\n",
    "    print(f\"ID: {idx}, Point: {features.tolist()}, Class: {label}, Distance: {dist:.3f}\")\n",
    "\n",
    "print(\"\\nK Nearest Neighbors:\")\n",
    "for idx, features, label, dist in neighbors:\n",
    "    print(f\"ID: {idx}, Point: {features.tolist()}, Class: {label}, Distance: {dist:.3f}\")\n",
    "\n",
    "print(f\"\\nPredicted Class (K={K}): {predicted_class}\")"
   ]
  }
 ],
 "metadata": {
  "kernelspec": {
   "display_name": "Python 3",
   "language": "python",
   "name": "python3"
  },
  "language_info": {
   "codemirror_mode": {
    "name": "ipython",
    "version": 3
   },
   "file_extension": ".py",
   "mimetype": "text/x-python",
   "name": "python",
   "nbconvert_exporter": "python",
   "pygments_lexer": "ipython3",
   "version": "3.12.9"
  }
 },
 "nbformat": 4,
 "nbformat_minor": 5
}
