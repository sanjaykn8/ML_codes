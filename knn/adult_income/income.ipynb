{
 "cells": [
  {
   "cell_type": "code",
   "execution_count": 1,
   "id": "b87e8fea",
   "metadata": {},
   "outputs": [],
   "source": [
    "import pandas as pd\n",
    "import numpy as np\n",
    "from sklearn.preprocessing import OneHotEncoder, MinMaxScaler\n",
    "from sklearn.model_selection import train_test_split\n",
    "from sklearn.metrics import accuracy_score, precision_score, recall_score\n",
    "from collections import Counter\n",
    "\n",
    "df = pd.read_csv(\"adult.csv\")\n",
    "df = df.replace(' ?', np.nan).dropna()\n",
    "\n",
    "df = df.sample(1000, random_state=42).reset_index(drop=True)"
   ]
  },
  {
   "cell_type": "code",
   "execution_count": 2,
   "id": "a8758375",
   "metadata": {},
   "outputs": [],
   "source": [
    "df.replace({'education': {\n",
    "    'Preschool': 'dropout',\n",
    "    '10th': 'dropout',\n",
    "    '11th': 'dropout',\n",
    "    '12th': 'dropout',\n",
    "    '1st-4th': 'dropout',\n",
    "    '5th-6th': 'dropout',\n",
    "    '7th-8th': 'dropout',\n",
    "    '9th': 'dropout',\n",
    "    'HS-Grad': 'HighGrad',\n",
    "    'HS-grad': 'HighGrad',\n",
    "    'Some-college': 'CommunityCollege',\n",
    "    'Assoc-acdm': 'CommunityCollege',\n",
    "    'Assoc-voc': 'CommunityCollege',\n",
    "    'Bachelors': 'Bachelors',\n",
    "    'Masters': 'Masters',\n",
    "    'Prof-school': 'Masters',\n",
    "    'Doctorate': 'Doctorate'\n",
    "}}, inplace=True)\n",
    "\n",
    "df.replace({'marital-status': {\n",
    "    'Never-married': 'NotMarried',\n",
    "    'Married-AF-spouse': 'Married',\n",
    "    'Married-civ-spouse': 'Married',\n",
    "    'Married-spouse-absent': 'NotMarried',\n",
    "    'Separated': 'Separated',\n",
    "    'Divorced': 'Separated',\n",
    "    'Widowed': 'Widowed'\n",
    "}}, inplace=True)\n"
   ]
  },
  {
   "cell_type": "code",
   "execution_count": null,
   "id": "ebb92258",
   "metadata": {},
   "outputs": [],
   "source": [
    "cont_cols = ['age', 'educational-num', 'capital-gain', 'capital-loss', 'hours-per-week']\n",
    "cat_cols = ['workclass', 'education', 'marital-status', 'occupation', 'relationship', 'race', 'gender', 'native-country']\n",
    "target_col = 'income'"
   ]
  },
  {
   "cell_type": "code",
   "execution_count": 4,
   "id": "f0dfac72",
   "metadata": {},
   "outputs": [],
   "source": [
    "ohe = OneHotEncoder(sparse_output=False, handle_unknown='ignore')\n",
    "X_cat = ohe.fit_transform(df[cat_cols])\n",
    "\n",
    "scaler = MinMaxScaler()\n",
    "X_cont = scaler.fit_transform(df[cont_cols])\n",
    "\n",
    "X = np.hstack([X_cont, X_cat])\n",
    "y = (df[target_col] == ' >50K').astype(int).values  \n",
    "\n",
    "X_train, X_test, y_train, y_test = train_test_split(X, y, test_size=0.2, random_state=42)\n",
    "\n",
    "num_features = X_cont.shape[1]"
   ]
  },
  {
   "cell_type": "code",
   "execution_count": 5,
   "id": "5c21849e",
   "metadata": {},
   "outputs": [],
   "source": [
    "def mixed_distance(x1, x2, alpha=1.0, beta=1.0, split=num_features):\n",
    "    num_dist = np.linalg.norm(x1[:split] - x2[:split])  # Euclidean\n",
    "    cat_dist = np.sum(x1[split:] != x2[split:])          # Hamming \n",
    "    return alpha * num_dist + beta * cat_dist\n"
   ]
  },
  {
   "cell_type": "code",
   "execution_count": 6,
   "id": "c3bca2ca",
   "metadata": {},
   "outputs": [],
   "source": [
    "def knn_predict(X_train, y_train, x_test, k=5, alpha=1.0, beta=1.0):\n",
    "    distances = []\n",
    "    for i in range(len(X_train)):\n",
    "        dist = mixed_distance(X_train[i], x_test, alpha, beta)\n",
    "        distances.append((dist, y_train[i]))\n",
    "    distances.sort(key=lambda x: x[0])\n",
    "    k_nearest_labels = [label for _, label in distances[:k]]\n",
    "    return Counter(k_nearest_labels).most_common(1)[0][0]\n"
   ]
  },
  {
   "cell_type": "code",
   "execution_count": 7,
   "id": "6dd4bf3e",
   "metadata": {},
   "outputs": [
    {
     "name": "stdout",
     "output_type": "stream",
     "text": [
      "KNN (k=5, α=0.9, β=0.8)\n",
      "Accuracy: 1.0000\n",
      "Precision: 0.0000\n",
      "Recall: 0.0000\n"
     ]
    }
   ],
   "source": [
    "k = 5\n",
    "alpha = 0.9\n",
    "beta = 0.8\n",
    "\n",
    "y_pred = [knn_predict(X_train, y_train, x, k, alpha, beta) for x in X_test]\n",
    "\n",
    "acc = accuracy_score(y_test, y_pred)\n",
    "prec = precision_score(y_test, y_pred, zero_division=0)\n",
    "rec = recall_score(y_test, y_pred, zero_division=0)\n",
    "\n",
    "print(f\"KNN (k={k}, α={alpha}, β={beta})\")\n",
    "print(f\"Accuracy: {acc:.4f}\")\n",
    "print(f\"Precision: {prec:.4f}\")\n",
    "print(f\"Recall: {rec:.4f}\")\n"
   ]
  }
 ],
 "metadata": {
  "kernelspec": {
   "display_name": "Python 3",
   "language": "python",
   "name": "python3"
  },
  "language_info": {
   "codemirror_mode": {
    "name": "ipython",
    "version": 3
   },
   "file_extension": ".py",
   "mimetype": "text/x-python",
   "name": "python",
   "nbconvert_exporter": "python",
   "pygments_lexer": "ipython3",
   "version": "3.12.9"
  }
 },
 "nbformat": 4,
 "nbformat_minor": 5
}
